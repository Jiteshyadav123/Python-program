{
 "cells": [
  {
   "cell_type": "code",
   "execution_count": 2,
   "metadata": {},
   "outputs": [
    {
     "name": "stdout",
     "output_type": "stream",
     "text": [
      "1\n",
      "2\n",
      "3\n",
      "4\n",
      "5\n",
      "6\n",
      "7\n",
      "8\n"
     ]
    }
   ],
   "source": [
    "l=[1,2,3,4,5,6,7,8]\n",
    "for i in l:\n",
    "    print(i)"
   ]
  },
  {
   "cell_type": "code",
   "execution_count": 17,
   "metadata": {},
   "outputs": [
    {
     "name": "stdout",
     "output_type": "stream",
     "text": [
      "[3]\n"
     ]
    }
   ],
   "source": [
    "print(l1)"
   ]
  },
  {
   "cell_type": "code",
   "execution_count": 29,
   "metadata": {},
   "outputs": [
    {
     "name": "stdout",
     "output_type": "stream",
     "text": [
      "2\n",
      "3\n",
      "4\n",
      "5\n",
      "6\n",
      "7\n",
      "8\n",
      "9\n"
     ]
    }
   ],
   "source": [
    "l1=[]\n",
    "l=[1,2,3,4,5,6,7,8]\n",
    "for i in l:\n",
    "    print(i+1)\n",
    "    l1.append(i+1)"
   ]
  },
  {
   "cell_type": "code",
   "execution_count": 30,
   "metadata": {},
   "outputs": [
    {
     "name": "stdout",
     "output_type": "stream",
     "text": [
      "[2, 3, 4, 5, 6, 7, 8, 9]\n"
     ]
    }
   ],
   "source": [
    "print(l1)"
   ]
  },
  {
   "cell_type": "code",
   "execution_count": 33,
   "metadata": {},
   "outputs": [
    {
     "name": "stdout",
     "output_type": "stream",
     "text": [
      "jitesh\n",
      "kumar\n",
      "pwskils\n",
      "course\n"
     ]
    }
   ],
   "source": [
    "l=[\"jitesh\",\"kumar\",\"pwskils\",\"course\"]\n",
    "for i in l:\n",
    "    print(i)"
   ]
  },
  {
   "cell_type": "code",
   "execution_count": 37,
   "metadata": {},
   "outputs": [
    {
     "name": "stdout",
     "output_type": "stream",
     "text": [
      "jitesh\n",
      "kumar\n",
      "pwskils\n",
      "course\n"
     ]
    }
   ],
   "source": [
    "l1=[]\n",
    "for i in l:\n",
    "    print(i)\n",
    "    l1.append(i.upper())"
   ]
  },
  {
   "cell_type": "code",
   "execution_count": 38,
   "metadata": {},
   "outputs": [
    {
     "name": "stdout",
     "output_type": "stream",
     "text": [
      "['JITESH', 'KUMAR', 'PWSKILS', 'COURSE']\n"
     ]
    }
   ],
   "source": [
    "print(l1)"
   ]
  },
  {
   "cell_type": "code",
   "execution_count": 39,
   "metadata": {},
   "outputs": [
    {
     "name": "stdout",
     "output_type": "stream",
     "text": [
      "[1, 2, 3, 4, 4, 5, 6, 7, 8, 234, 34.5]\n",
      "['sudh', 'kumar', 'abc']\n"
     ]
    }
   ],
   "source": [
    "l=[1,2,3,4,4,5,6,7,8,\"sudh\",\"kumar\",234,34.5,\"abc\"]\n",
    "\n",
    "l1_num=[]\n",
    "l2_str=[]\n",
    "\n",
    "for i in l:\n",
    "    if type(i)== int or type(i)==float:\n",
    "        l1_num.append(i)\n",
    "    else:\n",
    "        l2_str.append(i)\n",
    "print(l1_num)\n",
    "print(l2_str)"
   ]
  },
  {
   "cell_type": "code",
   "execution_count": 41,
   "metadata": {},
   "outputs": [
    {
     "name": "stdout",
     "output_type": "stream",
     "text": [
      "[1, 2, 3, 4, 4, 5, 6, 7, 8, 234]\n",
      "['sudh', 'kumar', 'abc']\n",
      "[34.5]\n"
     ]
    }
   ],
   "source": [
    "l=[1,2,3,4,4,5,6,7,8,\"sudh\",\"kumar\",234,34.5,\"abc\"]\n",
    "\n",
    "l1_num=[]\n",
    "l2_str=[]\n",
    "l3_float=[]\n",
    "\n",
    "for i in l:\n",
    "    if type(i)== int :\n",
    "        l1_num.append(i)\n",
    "    elif type(i)==float:\n",
    "        l3_float.append(i)\n",
    "    else:\n",
    "        l2_str.append(i)\n",
    "print(l1_num)\n",
    "print(l2_str)\n",
    "print(l3_float)"
   ]
  },
  {
   "cell_type": "code",
   "execution_count": null,
   "metadata": {},
   "outputs": [],
   "source": []
  }
 ],
 "metadata": {
  "kernelspec": {
   "display_name": "Python 3",
   "language": "python",
   "name": "python3"
  },
  "language_info": {
   "codemirror_mode": {
    "name": "ipython",
    "version": 3
   },
   "file_extension": ".py",
   "mimetype": "text/x-python",
   "name": "python",
   "nbconvert_exporter": "python",
   "pygments_lexer": "ipython3",
   "version": "3.11.9"
  }
 },
 "nbformat": 4,
 "nbformat_minor": 2
}
